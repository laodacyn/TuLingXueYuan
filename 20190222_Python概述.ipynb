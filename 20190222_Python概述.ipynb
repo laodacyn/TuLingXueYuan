{
 "cells": [
  {
   "cell_type": "markdown",
   "metadata": {},
   "source": [
    "# Python基础\n",
    "## Python概述\n",
    "- 计算机语言概述\n",
    "    - 语言：交流的工具，沟通媒介\n",
    "    - 计算机语言：人跟计算机交流的工具，翻译官\n",
    "    - Python是计算机语言的一种\n",
    "    - Python编程语言\n",
    "        - 代码：人类语言，通过代码命令机器，跟机器交流\n",
    "        - Python解释器：翻译工作\n",
    "        - 流程：\n",
    "            - 写代码\n",
    "            - 执行：由Python解释器把命令翻译给机器，同时把机器结果翻译给我们\n",
    "    - Python简史\n",
    "        - 1989年，Guido van Rossum创建\n",
    "        - 2008年，python3.0诞生\n",
    "        - 2014年，宣布python2.7支持到2020年\n",
    "        - 2017年，AI元年，Python崛起\n",
    "    - Python特点\n",
    "        - 速度问题：相对速度慢，应用于速度要求不高的领域，运维、数据分析、人工智能。但是Python开发速度快\n",
    "    - Python的应用领域\n",
    "        - 全能\n",
    "        - 设计哲学：平衡发展，样样通，简洁明了"
   ]
  }
 ],
 "metadata": {
  "kernelspec": {
   "display_name": "Python 3",
   "language": "python",
   "name": "python3"
  },
  "language_info": {
   "codemirror_mode": {
    "name": "ipython",
    "version": 3
   },
   "file_extension": ".py",
   "mimetype": "text/x-python",
   "name": "python",
   "nbconvert_exporter": "python",
   "pygments_lexer": "ipython3",
   "version": "3.6.3"
  }
 },
 "nbformat": 4,
 "nbformat_minor": 2
}
