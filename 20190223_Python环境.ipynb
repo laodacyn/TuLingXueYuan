{
 "cells": [
  {
   "cell_type": "markdown",
   "metadata": {},
   "source": [
    "# Python基础\n",
    "- 计算机概述\n",
    "    - 环境问题\n",
    "        - anaconda+pycharm\n",
    "        - python3.6\n",
    "    - 环境\n",
    "        - 学习环境\n",
    "            - 直播课：网易云课堂\n",
    "            - 讲义+代码：GitHub\n",
    "            - 教科书：Gitbook\n",
    "        - 工作环境\n",
    "            - 环境安装：http://www.cnblogs.com/zhouzhishuai/p/8401103.html\n",
    "            - 操作系统\n",
    "                - Windows\n",
    "                - Linux\n",
    "                - MacOX\n",
    "                - 标准系统：Windows下开虚拟机，安装Ubuntu\n",
    "            - 软件环境\n",
    "                - 不使用Python解释器\n",
    "                - 使用anaconda3+pycharm\n",
    "     - Python的执行方式\n",
    "         - 本质上Python是一堆命令的集合\n",
    "         - 执行过程是逐行执行，遇到问题即刻终止\n",
    "         - 打印hello world\n",
    "         - ctrl+enter:输出\n",
    "         - alt+enter:打开新的输入行"
   ]
  },
  {
   "cell_type": "code",
   "execution_count": 3,
   "metadata": {},
   "outputs": [
    {
     "name": "stdout",
     "output_type": "stream",
     "text": [
      "1234\n"
     ]
    }
   ],
   "source": [
    "print(1234)"
   ]
  },
  {
   "cell_type": "code",
   "execution_count": 4,
   "metadata": {},
   "outputs": [
    {
     "name": "stdout",
     "output_type": "stream",
     "text": [
      "崔\n"
     ]
    }
   ],
   "source": [
    "print(\"崔\")"
   ]
  },
  {
   "cell_type": "code",
   "execution_count": 5,
   "metadata": {},
   "outputs": [
    {
     "name": "stdout",
     "output_type": "stream",
     "text": [
      "hello world!\n"
     ]
    }
   ],
   "source": [
    "print('hello world!')"
   ]
  },
  {
   "cell_type": "code",
   "execution_count": 6,
   "metadata": {},
   "outputs": [
    {
     "name": "stdout",
     "output_type": "stream",
     "text": [
      "adsadsa\n"
     ]
    }
   ],
   "source": [
    "print('adsadsa')"
   ]
  },
  {
   "cell_type": "code",
   "execution_count": 7,
   "metadata": {},
   "outputs": [
    {
     "name": "stdout",
     "output_type": "stream",
     "text": [
      "12344\n",
      "4321\n"
     ]
    }
   ],
   "source": [
    "print('12344')\n",
    "print('4321')"
   ]
  }
 ],
 "metadata": {
  "kernelspec": {
   "display_name": "Python 3",
   "language": "python",
   "name": "python3"
  },
  "language_info": {
   "codemirror_mode": {
    "name": "ipython",
    "version": 3
   },
   "file_extension": ".py",
   "mimetype": "text/x-python",
   "name": "python",
   "nbconvert_exporter": "python",
   "pygments_lexer": "ipython3",
   "version": "3.6.3"
  }
 },
 "nbformat": 4,
 "nbformat_minor": 2
}
